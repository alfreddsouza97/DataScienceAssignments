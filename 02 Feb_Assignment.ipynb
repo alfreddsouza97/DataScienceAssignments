{
 "cells": [
  {
   "cell_type": "code",
   "execution_count": 1,
   "id": "bfc989f5-def7-46de-a7f1-539b626a0f6f",
   "metadata": {},
   "outputs": [
    {
     "data": {
      "text/plain": [
       "'A for loop is a control flow statement that executes code for a predefined number of iterations. The keyword used in this control flow statement is “for”. When the number of iterations is already known, the for loop is used.'"
      ]
     },
     "execution_count": 1,
     "metadata": {},
     "output_type": "execute_result"
    }
   ],
   "source": [
    "#Q1. Explain with an example  each when to use a for loop and a while loop.\n",
    "\n",
    "\"\"\"A for loop is a control flow statement that executes code for a predefined number of iterations. The keyword used in this control flow statement is “for”. When the number of iterations is already known, the for loop is used.\"\"\"\n"
   ]
  },
  {
   "cell_type": "code",
   "execution_count": 15,
   "id": "42c323b5-b05c-415d-9c04-01658a5a759b",
   "metadata": {},
   "outputs": [
    {
     "data": {
      "text/plain": [
       "' for i in range(start, stop jump): or for i in list: or for in list: or any iterable'"
      ]
     },
     "execution_count": 15,
     "metadata": {},
     "output_type": "execute_result"
    }
   ],
   "source": [
    "\"\"\" for i in range(start, stop jump): or for i in list: or for in list: or any iterable\"\"\""
   ]
  },
  {
   "cell_type": "code",
   "execution_count": 4,
   "id": "c8c2edfc-47e2-4e04-9603-1a43336e6235",
   "metadata": {},
   "outputs": [
    {
     "name": "stdout",
     "output_type": "stream",
     "text": [
      "P\n",
      "W\n",
      "S\n",
      "K\n",
      "I\n",
      "L\n",
      "L\n",
      "S\n"
     ]
    }
   ],
   "source": [
    "s = \"PWSKILLS\"\n",
    "\n",
    "for i in s:\n",
    "    \n",
    "    print(i)"
   ]
  },
  {
   "cell_type": "code",
   "execution_count": 5,
   "id": "12024759-cd0e-4d07-9702-0f0194f2b4eb",
   "metadata": {},
   "outputs": [
    {
     "data": {
      "text/plain": [
       "'While loops is a control flow statement which is used when number of iterations are not known '"
      ]
     },
     "execution_count": 5,
     "metadata": {},
     "output_type": "execute_result"
    }
   ],
   "source": [
    "\"\"\"While loops is a control flow statement which is used when number of iterations are not known \"\"\""
   ]
  },
  {
   "cell_type": "code",
   "execution_count": 8,
   "id": "8b85055f-918a-4786-8c54-995218ea9120",
   "metadata": {},
   "outputs": [
    {
     "data": {
      "text/plain": [
       "[2,\n",
       " 4,\n",
       " 6,\n",
       " 8,\n",
       " 10,\n",
       " 12,\n",
       " 14,\n",
       " 16,\n",
       " 18,\n",
       " 20,\n",
       " 22,\n",
       " 24,\n",
       " 26,\n",
       " 28,\n",
       " 30,\n",
       " 32,\n",
       " 34,\n",
       " 36,\n",
       " 38,\n",
       " 40,\n",
       " 42,\n",
       " 44,\n",
       " 46,\n",
       " 48,\n",
       " 50,\n",
       " 52,\n",
       " 54,\n",
       " 56,\n",
       " 58,\n",
       " 60,\n",
       " 62,\n",
       " 64,\n",
       " 66,\n",
       " 68,\n",
       " 70,\n",
       " 72,\n",
       " 74,\n",
       " 76,\n",
       " 78,\n",
       " 80,\n",
       " 82,\n",
       " 84,\n",
       " 86,\n",
       " 88,\n",
       " 90,\n",
       " 92,\n",
       " 94,\n",
       " 96,\n",
       " 98,\n",
       " 100]"
      ]
     },
     "execution_count": 8,
     "metadata": {},
     "output_type": "execute_result"
    }
   ],
   "source": [
    "n =100\n",
    "\n",
    "l1=[]\n",
    "i=0\n",
    "while i<=n-2:\n",
    "    \n",
    "    i=i+2\n",
    "    \n",
    "    if i%2==0: \n",
    "        \n",
    "        l1.append(i)\n",
    "        \n",
    "        \n",
    "    \n",
    "    \n",
    "\n",
    "l1\n",
    "    \n",
    "    "
   ]
  },
  {
   "cell_type": "code",
   "execution_count": 9,
   "id": "63e59fb5-cea9-4fdb-8a6a-dc1e685395f8",
   "metadata": {},
   "outputs": [
    {
     "data": {
      "text/plain": [
       "'The above code written using while loop prints even numbers from 2 to 100'"
      ]
     },
     "execution_count": 9,
     "metadata": {},
     "output_type": "execute_result"
    }
   ],
   "source": [
    "\"\"\"The above code written using while loop prints even numbers from 2 to 100\"\"\""
   ]
  },
  {
   "cell_type": "code",
   "execution_count": 10,
   "id": "2975cc96-fd5d-42ce-bc21-1d027f547d06",
   "metadata": {},
   "outputs": [],
   "source": [
    "#Q2. Write a python program to print the sum and product of the first 10 natural numbers using for and while loop"
   ]
  },
  {
   "cell_type": "code",
   "execution_count": 13,
   "id": "6ef33674-ed57-403f-9afd-6b3411f91875",
   "metadata": {},
   "outputs": [
    {
     "name": "stdin",
     "output_type": "stream",
     "text": [
      "Enter the range until where you need to sum and product the numbers :  10\n"
     ]
    },
    {
     "name": "stdout",
     "output_type": "stream",
     "text": [
      "Product of numbers is  3628800\n",
      "Sum of numbers is  55\n"
     ]
    }
   ],
   "source": [
    "num = int(input(\"Enter the range until where you need to sum and product the numbers : \"))\n",
    "\n",
    "prod =1 \n",
    "for i in range(1, num+1):\n",
    "    \n",
    "    prod = prod*i\n",
    "\n",
    "\n",
    "result=0\n",
    "\n",
    "for j in range(1, num+1):\n",
    "    \n",
    "    result = result + j\n",
    "    \n",
    "\n",
    "print(\"Product of numbers is \", prod)\n",
    "\n",
    "print(\"Sum of numbers is \", result)\n",
    "\n",
    "    \n",
    "    "
   ]
  },
  {
   "cell_type": "code",
   "execution_count": 14,
   "id": "5bed9605-1305-48c3-86da-6c9aa4c86f59",
   "metadata": {},
   "outputs": [
    {
     "name": "stdin",
     "output_type": "stream",
     "text": [
      "Enter the range until where you need to sum and product the numbers :  10\n"
     ]
    },
    {
     "name": "stdout",
     "output_type": "stream",
     "text": [
      "Product of numbers using While Loop is  3628800\n",
      "Sum of numbers using While Loop is  55\n"
     ]
    }
   ],
   "source": [
    "#using while loop\n",
    "num = int(input(\"Enter the range until where you need to sum and product the numbers : \"))\n",
    "\n",
    "product=1\n",
    "a=1\n",
    "while a<=num:\n",
    "    \n",
    "    product = product*a\n",
    "    \n",
    "    a=a+1\n",
    "\n",
    "sum_result = 0\n",
    "b=1\n",
    "\n",
    "while b<=num:\n",
    "    \n",
    "    sum_result =sum_result + b\n",
    "    b = b + 1\n",
    "    \n",
    "print(\"Product of numbers using While Loop is \", product)\n",
    "print(\"Sum of numbers using While Loop is \", sum_result)\n",
    "\n",
    "\n"
   ]
  },
  {
   "cell_type": "code",
   "execution_count": 16,
   "id": "3453591d-5414-493c-baaf-cd101dda9a4c",
   "metadata": {},
   "outputs": [
    {
     "data": {
      "text/plain": [
       "'Q3. Create a python program to compute the electricity bill for a household.\\n\\nThe per-unit charges in rupees are as follows: For the first 100 units, the user will be charged Rs. 4.5 per unit, for the next 100 units, the user will be charged Rs. 6 per unit, and for the next 100 units, the user will be charged Rs. 10 per unit, After 300 units and above the user will be charged Rs. 20 per unit.\\n\\nYou are required to take the units of electricity consumed in a month from the user as input.\\n\\nYour program must pass this test case: when the unit of electricity consumed by the user in a month is 310, the total electricity bill should be 2250. '"
      ]
     },
     "execution_count": 16,
     "metadata": {},
     "output_type": "execute_result"
    }
   ],
   "source": [
    "\"\"\"Q3. Create a python program to compute the electricity bill for a household.\n",
    "\n",
    "The per-unit charges in rupees are as follows: For the first 100 units, the user will be charged Rs. 4.5 per unit, for the next 100 units, the user will be charged Rs. 6 per unit, and for the next 100 units, the user will be charged Rs. 10 per unit, After 300 units and above the user will be charged Rs. 20 per unit.\n",
    "\n",
    "You are required to take the units of electricity consumed in a month from the user as input.\n",
    "\n",
    "Your program must pass this test case: when the unit of electricity consumed by the user in a month is 310, the total electricity bill should be 2250. \"\"\""
   ]
  },
  {
   "cell_type": "code",
   "execution_count": 20,
   "id": "1310b44d-ca86-41d7-8f59-c3fedc237edf",
   "metadata": {},
   "outputs": [
    {
     "name": "stdin",
     "output_type": "stream",
     "text": [
      "Enter no. of Units :  310\n"
     ]
    },
    {
     "name": "stdout",
     "output_type": "stream",
     "text": [
      "The total bill is  2250.0\n"
     ]
    }
   ],
   "source": [
    "units=int(input(\"Enter no. of Units : \"))\n",
    "\n",
    "unit_charge = 1\n",
    "\n",
    "total_bill = 1\n",
    "\n",
    "if units<=100:\n",
    "    \n",
    "    unit_charge = 4.5\n",
    "    \n",
    "    total_bill = unit_charge * units\n",
    "    \n",
    "elif units>100 and units<=200:\n",
    "    \n",
    "    unit_charge = 6\n",
    "    \n",
    "    total_bill = (4.5*100) +( (units-100)*unit_charge)\n",
    "\n",
    "elif units>200 and units<=300:\n",
    "    \n",
    "    unit_charge = 10\n",
    "    \n",
    "    total_bill = (4.5*100)+ (6*100)+((units-200)*unit_charge)\n",
    "    \n",
    "\n",
    "else :\n",
    "    \n",
    "    unit_charge = 20\n",
    "    \n",
    "    total_bill = (4.5*100) + (6*100) + (10*100) + ((units-300)*unit_charge)\n",
    "    \n",
    "\n",
    "\n",
    "\n",
    "print(\"The total bill is \", total_bill)\n"
   ]
  },
  {
   "cell_type": "code",
   "execution_count": 21,
   "id": "49cebaa2-5d1b-46fb-a78d-757049696946",
   "metadata": {},
   "outputs": [
    {
     "data": {
      "text/plain": [
       "'Q4. Create a list of numbers from 1 to 100. Use for loop and while loop to calculate the cube of each number and if the cube is of that number is divisible by 4 or 5 then append that number in a list and print that list. '"
      ]
     },
     "execution_count": 21,
     "metadata": {},
     "output_type": "execute_result"
    }
   ],
   "source": [
    "\"\"\"Q4. Create a list of numbers from 1 to 100. Use for loop and while loop to calculate the cube of each number and if the cube is of that number is divisible by 4 or 5 then append that number in a list and print that list. \"\"\""
   ]
  },
  {
   "cell_type": "code",
   "execution_count": 22,
   "id": "dca0bbec-6d87-4fed-b2b9-c3aefac1ede4",
   "metadata": {},
   "outputs": [],
   "source": [
    "l3=[] #created the list of 1 to 100 using for loop\n",
    "\n",
    "for i in range(1, 101):\n",
    "    \n",
    "    l3.append(i)"
   ]
  },
  {
   "cell_type": "code",
   "execution_count": 23,
   "id": "11825945-8081-45ee-aac4-a186a20ef789",
   "metadata": {},
   "outputs": [
    {
     "data": {
      "text/plain": [
       "[1,\n",
       " 2,\n",
       " 3,\n",
       " 4,\n",
       " 5,\n",
       " 6,\n",
       " 7,\n",
       " 8,\n",
       " 9,\n",
       " 10,\n",
       " 11,\n",
       " 12,\n",
       " 13,\n",
       " 14,\n",
       " 15,\n",
       " 16,\n",
       " 17,\n",
       " 18,\n",
       " 19,\n",
       " 20,\n",
       " 21,\n",
       " 22,\n",
       " 23,\n",
       " 24,\n",
       " 25,\n",
       " 26,\n",
       " 27,\n",
       " 28,\n",
       " 29,\n",
       " 30,\n",
       " 31,\n",
       " 32,\n",
       " 33,\n",
       " 34,\n",
       " 35,\n",
       " 36,\n",
       " 37,\n",
       " 38,\n",
       " 39,\n",
       " 40,\n",
       " 41,\n",
       " 42,\n",
       " 43,\n",
       " 44,\n",
       " 45,\n",
       " 46,\n",
       " 47,\n",
       " 48,\n",
       " 49,\n",
       " 50,\n",
       " 51,\n",
       " 52,\n",
       " 53,\n",
       " 54,\n",
       " 55,\n",
       " 56,\n",
       " 57,\n",
       " 58,\n",
       " 59,\n",
       " 60,\n",
       " 61,\n",
       " 62,\n",
       " 63,\n",
       " 64,\n",
       " 65,\n",
       " 66,\n",
       " 67,\n",
       " 68,\n",
       " 69,\n",
       " 70,\n",
       " 71,\n",
       " 72,\n",
       " 73,\n",
       " 74,\n",
       " 75,\n",
       " 76,\n",
       " 77,\n",
       " 78,\n",
       " 79,\n",
       " 80,\n",
       " 81,\n",
       " 82,\n",
       " 83,\n",
       " 84,\n",
       " 85,\n",
       " 86,\n",
       " 87,\n",
       " 88,\n",
       " 89,\n",
       " 90,\n",
       " 91,\n",
       " 92,\n",
       " 93,\n",
       " 94,\n",
       " 95,\n",
       " 96,\n",
       " 97,\n",
       " 98,\n",
       " 99,\n",
       " 100]"
      ]
     },
     "execution_count": 23,
     "metadata": {},
     "output_type": "execute_result"
    }
   ],
   "source": [
    "l3"
   ]
  },
  {
   "cell_type": "code",
   "execution_count": 31,
   "id": "02c3a35f-c0e7-4a14-acfb-8efd6a5d8d05",
   "metadata": {},
   "outputs": [
    {
     "name": "stdout",
     "output_type": "stream",
     "text": [
      "cube of a number in l4:\n",
      " [1, 8, 27, 64, 125, 216, 343, 512, 729, 1000, 1331, 1728, 2197, 2744, 3375, 4096, 4913, 5832, 6859, 8000, 9261, 10648, 12167, 13824, 15625, 17576, 19683, 21952, 24389, 27000, 29791, 32768, 35937, 39304, 42875, 46656, 50653, 54872, 59319, 64000, 68921, 74088, 79507, 85184, 91125, 97336, 103823, 110592, 117649, 125000, 132651, 140608, 148877, 157464, 166375, 175616, 185193, 195112, 205379, 216000, 226981, 238328, 250047, 262144, 274625, 287496, 300763, 314432, 328509, 343000, 357911, 373248, 389017, 405224, 421875, 438976, 456533, 474552, 493039, 512000, 531441, 551368, 571787, 592704, 614125, 636056, 658503, 681472, 704969, 729000, 753571, 778688, 804357, 830584, 857375, 884736, 912673, 941192, 970299, 1000000] \n",
      "\n",
      "number whose cube is divisble by 4 or 5 in l5: \n",
      "  [2, 4, 5, 6, 8, 10, 12, 14, 15, 16, 18, 20, 22, 24, 25, 26, 28, 30, 32, 34, 35, 36, 38, 40, 42, 44, 45, 46, 48, 50, 52, 54, 55, 56, 58, 60, 62, 64, 65, 66, 68, 70, 72, 74, 75, 76, 78, 80, 82, 84, 85, 86, 88, 90, 92, 94, 95, 96, 98, 100]\n"
     ]
    }
   ],
   "source": [
    "l4=[] #displays cube of number\n",
    "\n",
    "\n",
    "l5=[] #displays the number whose cube is either divisible by 4 or 5\n",
    "for i in l3:\n",
    "    \n",
    "    l4.append(i**3) #appends cube of number to l4[]\n",
    "    \n",
    "    if (i**3)%4==0 or (i**3)%5==0:\n",
    "        \n",
    "        l5.append(i) #number whose cube is divisble by 4 or 5 in l5:\n",
    "\n",
    "print(\"cube of a number in l4:\\n\", l4,\"\\n\")\n",
    "print(\"number whose cube is divisble by 4 or 5 in l5: \\n \", l5)\n"
   ]
  },
  {
   "cell_type": "code",
   "execution_count": 32,
   "id": "3e938112-1121-4c00-8c1a-2cf44f6cffeb",
   "metadata": {},
   "outputs": [
    {
     "data": {
      "text/plain": [
       "'Q5: Write a program to filter count vowels in the below-given string'"
      ]
     },
     "execution_count": 32,
     "metadata": {},
     "output_type": "execute_result"
    }
   ],
   "source": [
    "\"\"\"Q5: Write a program to filter count vowels in the below-given string\"\"\""
   ]
  },
  {
   "cell_type": "code",
   "execution_count": 38,
   "id": "1e960f3c-c9f9-48e1-8e13-7ee4b913ae55",
   "metadata": {},
   "outputs": [
    {
     "name": "stdout",
     "output_type": "stream",
     "text": [
      "the number of vowels in the string :  I want to become a data scientist  are  12\n"
     ]
    }
   ],
   "source": [
    "string = \"I want to become a data scientist\"\n",
    "\n",
    "string_lower = string.lower()\n",
    "\n",
    "count = 0\n",
    "for i in string_lower:\n",
    "    \n",
    "    if i=='a':\n",
    "        \n",
    "        count = count+1\n",
    "        \n",
    "    elif i=='e':\n",
    "        count = count+1\n",
    "        \n",
    "    elif i=='i':\n",
    "        count = count+1\n",
    "    \n",
    "    elif i=='o':\n",
    "        count = count+1\n",
    "    \n",
    "    elif i=='u':\n",
    "        count = count+1\n",
    "    \n",
    "\n",
    "print(\"the number of vowels in the string : \", string, \" are \",count)\n",
    "    "
   ]
  },
  {
   "cell_type": "code",
   "execution_count": null,
   "id": "d1a41d55-c942-4325-8687-f984d5320e4b",
   "metadata": {},
   "outputs": [],
   "source": []
  }
 ],
 "metadata": {
  "kernelspec": {
   "display_name": "Python 3 (ipykernel)",
   "language": "python",
   "name": "python3"
  },
  "language_info": {
   "codemirror_mode": {
    "name": "ipython",
    "version": 3
   },
   "file_extension": ".py",
   "mimetype": "text/x-python",
   "name": "python",
   "nbconvert_exporter": "python",
   "pygments_lexer": "ipython3",
   "version": "3.10.8"
  }
 },
 "nbformat": 4,
 "nbformat_minor": 5
}
