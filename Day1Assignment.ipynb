{
 "cells": [
  {
   "cell_type": "markdown",
   "id": "cd3b33bd-f3bd-49bf-96c8-73f326dd81ba",
   "metadata": {},
   "source": [
    "' 1. Who developed Python Programming Language? \\n\\nPython programming language was developed by Guido van Rossum. He began working on Python in the late 1980s, and the first version, Python 0.9.0, was released in February 1991. Guido van Rossum remained the principal author of Python until he stepped down from his role as \"Benevolent Dictator For Life\" (BDFL) in July 2018. Since then, Python\\'s development has been overseen by the Python Steering Council, a group of core developers. '"
   ]
  },
  {
   "cell_type": "markdown",
   "id": "376e984e-cd2a-4b94-821b-8525d4bafa82",
   "metadata": {},
   "source": [
    "2. Which type of Programming does Python support?\n",
    "\n",
    "\n",
    "\n",
    "Python is a versatile programming language that supports various programming paradigms, making it suitable for a wide range of applications. The main programming paradigms supported by Python are:\n",
    "\n",
    "Imperative Programming: Python allows you to write code that specifies the sequence of operations to be performed. This is the most common programming style and is used for tasks that involve step-by-step instructions.\n",
    "\n",
    "Object-Oriented Programming (OOP): Python is an object-oriented language, which means you can define classes and create objects with properties and methods. OOP promotes code organization and reusability.\n",
    "\n",
    "Functional Programming: Python supports functional programming concepts, allowing you to use functions as first-class citizens, employ lambda functions, and work with higher-order functions. This paradigm is useful for tasks involving data transformation and manipulation.\n",
    "\n",
    "Procedural Programming: You can structure your code into functions and modules, emphasizing procedure-like structures. This is useful for breaking down complex tasks into smaller, manageable steps.\n",
    "\n",
    "Dynamic Typing: Python uses dynamic typing, which means you don't need to declare the data type of a variable explicitly. The type of a variable is determined during runtime.\n",
    "\n",
    "Scripting: Python is commonly used for scripting tasks, where you can quickly write and execute scripts to automate tasks or manipulate data.\n",
    "\n",
    "Web Development: Python is used in web development with frameworks like Django and Flask, allowing you to build dynamic and interactive web applications.\n",
    "\n",
    "Data Science and Analysis: Python is widely used in data science for data manipulation, analysis, and visualization, thanks to libraries like NumPy, pandas, and Matplotlib.\n",
    "\n",
    "Machine Learning and AI: Python is a popular choice for developing machine learning and artificial intelligence applications, with libraries like TensorFlow, PyTorch, and scikit-learn.\n",
    "\n",
    "Scientific Computing: Python is used in scientific research and computational modeling due to its scientific computing libraries and tools.\n",
    "\n",
    "Game Development: Python can be used for game development, with libraries like Pygame offering the necessary tools and functionalities.\n",
    "\n",
    "Automation and System Administration: Python is used for automating tasks, scripting, and system administration due to its ease of use and cross-platform compatibility.\n",
    "\n",
    "Python's versatility and wide range of libraries and frameworks make it suitable for many different domains and use cases."
   ]
  },
  {
   "cell_type": "markdown",
   "id": "24728202-58ab-4aca-8647-ecb99bddcda4",
   "metadata": {},
   "source": [
    "3. Is Python case sensitive when dealing with identifiers? \n",
    "\n",
    "\n",
    "Yes, Python is case-sensitive when dealing with identifiers. This means that variables, function names, class names, and other identifiers must be written with consistent capitalization in order to be recognized correctly by the Python interpreter."
   ]
  },
  {
   "cell_type": "markdown",
   "id": "aa70be07-00f7-40ce-84cc-7e53dfc8b105",
   "metadata": {},
   "source": [
    "4. What is the correct extension of the Python file? \n",
    "\n",
    "The correct extension for Python files is .py. When you save a Python script, you should use a filename with the .py extension to indicate that it contains Python code. For example, if you're creating a script called \"my_script,\" you should save it as \"my_script.py\". This extension helps both you and the operating system recognize that the file contains Python code and should be interpreted as such. But, in jupyter notebook, it's .ipynb"
   ]
  },
  {
   "cell_type": "markdown",
   "id": "cefa6eb8-1ed8-4dc2-af79-f3d09e91aa48",
   "metadata": {},
   "source": [
    "5. Is Python code compiled or interpreted? \n",
    "\n",
    "Python code is typically interpreted, which means that the Python interpreter reads the source code line by line and executes it directly without a separate compilation step. When you run a Python script, the interpreter translates the code into machine-readable instructions and executes them immediately.\n",
    "\n",
    "However, Python does involve a compilation step, but it's done implicitly during the execution process. Here's how it works:\n",
    "\n",
    "Source Code: You write your Python code in a text file with the .py extension.\n",
    "\n",
    "Compilation: When you run the Python script, the Python interpreter compiles the source code into bytecode. Bytecode is a lower-level representation of your code that is closer to machine code but still not directly executable by the computer's hardware.\n",
    "\n",
    "Execution: The bytecode is then executed by the Python interpreter's virtual machine, which is responsible for translating the bytecode into machine-specific instructions that the computer's hardware can understand and execute.\n",
    "\n",
    "This combination of compilation and interpretation gives Python the benefits of both worlds. While it's not compiled to native machine code like some other languages, the compilation to bytecode allows for faster execution and portability across different platforms without the need for explicit compilation steps as in languages like C or C++."
   ]
  },
  {
   "cell_type": "markdown",
   "id": "5a4bc0af-1cda-41c4-bc1c-379026004e52",
   "metadata": {},
   "source": [
    "6.  Name a few blocks of code used to define in Python language? \n",
    "\n",
    "\n",
    "In Python, blocks of code are defined using indentation rather than explicit braces or keywords. Here are a few examples of code blocks commonly used in Python:\n",
    "\n",
    "Conditional Statements:\n",
    "\n",
    "if else\n",
    "    \n",
    "\n",
    "Loop Statements:\n",
    "\n",
    "for , while, do while\n",
    "\n"
   ]
  },
  {
   "cell_type": "markdown",
   "id": "dc68f4d4-dad4-4862-b725-487c8c0ac33e",
   "metadata": {},
   "source": [
    "7. State a character used to give single-line comments in Python? \n",
    "\n",
    "'#' is the character used for single-line comments in Python.\n",
    "\n",
    "#This is a comment"
   ]
  },
  {
   "cell_type": "code",
   "execution_count": 1,
   "id": "4158a46b-9c06-42f3-96c6-58dbc34c40b8",
   "metadata": {},
   "outputs": [],
   "source": [
    "#This is a comment."
   ]
  },
  {
   "cell_type": "markdown",
   "id": "4faeb68b-a9c9-4e86-a15d-47442f045d58",
   "metadata": {},
   "source": [
    "8. Mention functions which can help us to find the version of python that we are currently working on? \n",
    "\n",
    "To find out the version of Python you're currently working with, you can use the following functions and methods:\n",
    "\n",
    "1. **sys library:**\n",
    "The `sys` module provides access to some variables used or maintained by the interpreter and to functions that interact strongly with the interpreter.\n",
    "\n",
    "   ```python\n",
    "   import sys\n",
    "   print(sys.version)\n",
    "   ```\n",
    "\n",
    "2. **platform library:**\n",
    "The `platform` module provides an interface to various services that interact with the software platform underneath the Python interpreter.\n",
    "\n",
    "   ```python\n",
    "   import platform\n",
    "   print(platform.python_version())\n",
    "   ```\n",
    "\n",
    "3. **sysconfig library:**\n",
    "The `sysconfig` module provides access to Python's configuration information.\n",
    "\n",
    "   ```python\n",
    "   import sysconfig\n",
    "   print(sysconfig.get_python_version())\n",
    "   ```\n",
    "\n",
    "4. **sys.version_info:**\n",
    "The `sys.version_info` tuple contains detailed version information about the Python interpreter.\n",
    "\n",
    "   ```python\n",
    "   import sys\n",
    "   print(sys.version_info)\n",
    "   ```\n",
    "\n",
    "All of these methods will provide you with information about the Python version you're currently working with. Choose the one that best suits your needs and coding style."
   ]
  },
  {
   "cell_type": "code",
   "execution_count": 3,
   "id": "0aae7a36-0a83-4e2b-a909-9ec81ab95429",
   "metadata": {},
   "outputs": [
    {
     "name": "stdout",
     "output_type": "stream",
     "text": [
      "3.10.8 | packaged by conda-forge | (main, Nov 22 2022, 08:26:04) [GCC 10.4.0]\n"
     ]
    }
   ],
   "source": [
    "import sys\n",
    "print(sys.version)"
   ]
  },
  {
   "cell_type": "code",
   "execution_count": 4,
   "id": "9a602b67-6316-482b-950f-c9c3ec0cb515",
   "metadata": {},
   "outputs": [
    {
     "name": "stdout",
     "output_type": "stream",
     "text": [
      "3.10.8\n"
     ]
    }
   ],
   "source": [
    "import platform\n",
    "print(platform.python_version())"
   ]
  },
  {
   "cell_type": "code",
   "execution_count": 5,
   "id": "1a2c6194-6734-491b-ad57-eb3f0a22def3",
   "metadata": {},
   "outputs": [
    {
     "name": "stdout",
     "output_type": "stream",
     "text": [
      "3.10\n"
     ]
    }
   ],
   "source": [
    "import sysconfig\n",
    "print(sysconfig.get_python_version())"
   ]
  },
  {
   "cell_type": "code",
   "execution_count": 6,
   "id": "33420b06-d1b6-4521-a339-994a9b747794",
   "metadata": {},
   "outputs": [
    {
     "name": "stdout",
     "output_type": "stream",
     "text": [
      "sys.version_info(major=3, minor=10, micro=8, releaselevel='final', serial=0)\n"
     ]
    }
   ],
   "source": [
    "import sys\n",
    "print(sys.version_info)"
   ]
  },
  {
   "cell_type": "markdown",
   "id": "841555e4-7109-4180-8049-67069c2d5308",
   "metadata": {},
   "source": [
    "9. Python supports the creation of anonymous functions at runtime, using a construct called\n",
    "\n",
    "Python supports the creation of anonymous functions at runtime using a construct called **\"lambda\"**. A lambda function is a small, anonymous function that can have any number of arguments, but can only have one expression. Lambda functions are often used for short, simple operations that can be defined in a single line of code.\n",
    "\n",
    "The syntax for creating a lambda function is as follows:\n",
    "\n",
    "```python\n",
    "lambda arguments: expression\n",
    "```\n",
    "\n",
    "Here's an example of how you might use a lambda function to create a simple addition operation:\n",
    "\n",
    "```python\n",
    "add = lambda x, y: x + y\n",
    "result = add(3, 5)\n",
    "print(result)  # Output: 8\n",
    "```\n",
    "\n",
    "In this example, the `lambda x, y: x + y` defines an anonymous function that takes two arguments `x` and `y`, and returns their sum.\n",
    "\n",
    "Lambda functions are commonly used in places where a short function is needed, such as in higher-order functions like `map`, `filter`, and `sorted`. However, they are limited to simple expressions and cannot contain complex statements or multiple expressions.\n",
    "\n"
   ]
  },
  {
   "cell_type": "code",
   "execution_count": 7,
   "id": "3a752057-15a2-460c-b3a1-4e0ec1faf0be",
   "metadata": {},
   "outputs": [
    {
     "name": "stdout",
     "output_type": "stream",
     "text": [
      "8\n"
     ]
    }
   ],
   "source": [
    "add = lambda x, y: x + y\n",
    "result = add(3, 5)\n",
    "print(result)"
   ]
  },
  {
   "cell_type": "markdown",
   "id": "e5fde3a7-9798-40f2-ae37-6762406e6a32",
   "metadata": {},
   "source": [
    "10. What does pip stand for python?\n",
    "\n",
    "In Python, **\"pip\"** stands for \"Pip Installs Packages.\" It is a package manager used to install and manage external libraries and packages that are not part of the Python standard library. Pip allows you to easily install, upgrade, and uninstall Python packages from the Python Package Index (PyPI) and other package repositories.\n",
    "\n",
    "Using pip, you can install packages by running commands like:\n",
    "\n",
    "```bash\n",
    "pip install package_name\n",
    "```\n",
    "\n",
    "For example, to install the popular `numpy` package, you would use:\n",
    "\n",
    "```bash\n",
    "pip install numpy\n",
    "```\n",
    "\n",
    "Pip also provides functionalities to list installed packages, search for packages, upgrade packages, and more. It's an essential tool for Python developers to manage the dependencies of their projects efficiently."
   ]
  },
  {
   "cell_type": "markdown",
   "id": "7b913c37-6529-4e7c-a52f-94d06ac4a344",
   "metadata": {},
   "source": [
    "11. Mention a few built-in functions in python?\n",
    "\n",
    "\n",
    "Python comes with a wide range of built-in functions that provide useful functionality for various tasks. Here are a few examples of built-in functions in Python:\n",
    "\n",
    "1. **`print()`**: Outputs text or variables to the console.\n",
    "   \n",
    "   ```python\n",
    "   print(\"Hello, World!\")\n",
    "   ```\n",
    "\n",
    "2. **`len()`**: Returns the length (number of items) of an object.\n",
    "   \n",
    "   ```python\n",
    "   length = len([1, 2, 3, 4, 5])\n",
    "   ```\n",
    "\n",
    "3. **`input()`**: Reads a line of text from the user through the console.\n",
    "   \n",
    "   ```python\n",
    "   user_input = input(\"Enter your name: \")\n",
    "   ```\n",
    "\n",
    "4. **`int()`**, **`float()`**, **`str()`**, **`list()`**, **`tuple()`**, **`dict()`**, **`set()`**: Convert values to specific data types.\n",
    "   \n",
    "   ```python\n",
    "   num = int(\"42\")\n",
    "   name = str(42)\n",
    "   numbers_list = list((1, 2, 3))\n",
    "   ```\n",
    "\n",
    "5. **`range()`**: Generates a sequence of numbers.\n",
    "   \n",
    "   ```python\n",
    "   numbers = range(1, 6)  # Generates numbers from 1 to 5\n",
    "   ```\n",
    "\n",
    "6. **`sum()`**: Calculates the sum of a sequence.\n",
    "   \n",
    "   ```python\n",
    "   total = sum([1, 2, 3, 4, 5])\n",
    "   ```\n",
    "\n",
    "7. **`max()`**, **`min()`**: Returns the maximum or minimum value from a sequence.\n",
    "   \n",
    "   ```python\n",
    "   maximum = max([3, 7, 2, 9])\n",
    "   minimum = min([3, 7, 2, 9])\n",
    "   ```\n",
    "\n",
    "8. **`abs()`**: Returns the absolute value of a number.\n",
    "   \n",
    "   ```python\n",
    "   absolute_value = abs(-10)\n",
    "   ```\n",
    "\n",
    "9. **`round()`**: Rounds a number to a specified number of decimal places.\n",
    "   \n",
    "   ```python\n",
    "   rounded_value = round(3.14159, 2)  # Rounds to 2 decimal places\n",
    "   ```\n",
    "\n",
    "10. **`sorted()`**: Returns a sorted list from the elements of any iterable.\n",
    "   \n",
    "    ```python\n",
    "    sorted_list = sorted([4, 1, 3, 2])\n",
    "    ```\n",
    "\n",
    "These are just a few examples of the many built-in functions available in Python. They provide fundamental functionality and can significantly simplify programming tasks."
   ]
  },
  {
   "cell_type": "markdown",
   "id": "1c13009a-4cfa-44da-bfc1-da62d7725115",
   "metadata": {},
   "source": [
    "12. What is the maximum possible length of an identifier in Python? \n",
    "\n",
    "In Python, the maximum possible length of an identifier (variable name, function name, class name, etc.) is not strictly defined by a specific character count, but rather by the limitations of the implementation and the system's memory.\n",
    "\n",
    "However, there are some practical guidelines and conventions that are commonly followed:\n",
    "\n",
    "1. **Readable and Maintainable Code:** While there might not be a strict limit, it's a good practice to keep your identifiers reasonably short and meaningful to ensure code readability and maintainability.\n",
    "\n",
    "2. **PEP 8 Guideline:** The Python community follows the PEP 8 style guide, which recommends limiting lines to a maximum of 79 characters for readability. This indirectly suggests keeping variable and function names within a reasonable length.\n",
    "\n",
    "3. **Practical Limit:** In most cases, an identifier length of around 79 characters or less is a reasonable guideline to follow. This aligns with PEP 8's line length recommendation and helps to avoid excessively long identifiers that might become hard to manage.\n",
    "\n",
    "Remember that while there isn't a strict technical limit, the primary consideration should be writing clear, understandable, and maintainable code."
   ]
  },
  {
   "cell_type": "markdown",
   "id": "e106cffb-c49e-4a91-b7e5-6cb533c936e2",
   "metadata": {},
   "source": [
    "13. What are the benefits of using Python? \n",
    "\n",
    "Python is a popular programming language that offers a wide range of benefits for developers and businesses. Here are some of the key advantages of using Python:\n",
    "\n",
    "1. **Readability and Simplicity:** Python's clean and easy-to-read syntax emphasizes code readability, which reduces the cost of program maintenance. It uses indentation and whitespace consistently to define code blocks, which enforces clean and organized code.\n",
    "\n",
    "2. **Vast Standard Library:** Python comes with an extensive standard library that includes modules for a variety of tasks, ranging from file handling and networking to data manipulation and web development. This reduces the need to write code from scratch and accelerates development.\n",
    "\n",
    "3. **Wide Range of Libraries and Frameworks:** Python has a rich ecosystem of third-party libraries and frameworks, such as NumPy, pandas, Django, Flask, TensorFlow, and more. These libraries enable developers to leverage existing tools and solutions for various domains like data analysis, machine learning, web development, and scientific computing.\n",
    "\n",
    "4. **Cross-Platform Compatibility:** Python is a cross-platform language, meaning that code written on one platform (Windows, macOS, Linux) can easily run on other platforms with little or no modification.\n",
    "\n",
    "5. **Open Source and Community-Driven:** Python is open source, which means that it's freely available and can be used, modified, and distributed. Its large and active community contributes to its growth, improvement, and the creation of a wide range of resources and documentation.\n",
    "\n",
    "6. **Productivity and Rapid Development:** The combination of a simple syntax, a vast standard library, and numerous third-party packages allows developers to write code more quickly and with fewer lines, boosting productivity and speeding up development cycles.\n",
    "\n",
    "7. **Support for Multiple Paradigms:** Python supports multiple programming paradigms, including procedural, object-oriented, and functional programming. This flexibility enables developers to choose the most suitable approach for their projects.\n",
    "\n",
    "8. **Great for Prototyping:** Python's fast development cycle and dynamic typing make it an excellent choice for quickly prototyping ideas and concepts. This is particularly useful in scenarios where rapid iterations and experimentation are needed.\n",
    "\n",
    "9. **Community and Learning Resources:** Python has a welcoming and supportive community, making it easy to find help, tutorials, documentation, and examples online. This is especially beneficial for beginners and those new to programming.\n",
    "\n",
    "10. **Scalability:** While Python might not be as performant as lower-level languages like C or C++, it can still handle a wide range of applications, and many performance-critical tasks can be offloaded to optimized libraries or extensions.\n",
    "\n",
    "Overall, Python's combination of simplicity, versatility, and community support has contributed to its widespread adoption in various industries and domains."
   ]
  },
  {
   "cell_type": "markdown",
   "id": "11b926a9-923d-4fc1-8f49-c8cff195e8e9",
   "metadata": {},
   "source": [
    "14. How is memory managed in Python? \n",
    "\n",
    "Memory management in Python is primarily handled by its memory manager and automatic garbage collection system. Python uses a private heap space to manage memory, and the management of this private heap space is done by the Python memory manager. Here's how memory management works in Python:\n",
    "\n",
    "1. **Private Heap Space:** When a Python program is executed, it creates a private heap space that is used to store all the objects and data structures created during program execution. This heap space is managed by the Python memory manager.\n",
    "\n",
    "2. **Reference Counting:** Python uses a reference counting mechanism to keep track of how many references are pointing to an object. When an object's reference count drops to zero, it means the object is no longer needed and can be safely deleted.\n",
    "\n",
    "3. **Automatic Garbage Collection:** In addition to reference counting, Python also employs a cyclic garbage collector. This garbage collector identifies and collects circular references that might not be caught by simple reference counting. Circular references occur when objects reference each other in a way that creates a cycle, making it impossible for reference counts to drop to zero.\n",
    "\n",
    "4. **Memory Allocation:** When objects are created, Python's memory manager allocates memory from the private heap space to store the object's data and attributes. The memory manager keeps track of allocated blocks of memory and recycles memory that is no longer in use.\n",
    "\n",
    "5. **Memory Deallocation:** When an object's reference count drops to zero, the memory manager deallocates the memory occupied by the object. This process is done automatically through the garbage collection mechanism.\n",
    "\n",
    "6. **Memory Fragmentation:** Memory fragmentation can occur over time as objects are allocated and deallocated. Python's memory manager tries to handle this by periodically running a memory compaction process, which rearranges memory blocks to reduce fragmentation.\n",
    "\n",
    "7. **Memory Optimizations:** Python employs various memory optimization techniques, such as interning small integers and some string literals, to reduce memory consumption.\n",
    "\n",
    "8. **Memory Profiling and Debugging:** Python provides tools for memory profiling and debugging, such as the `sys.getsizeof()` function and third-party libraries like `memory_profiler`, to help developers analyze memory usage and identify memory leaks.\n",
    "\n",
    "It's important to note that while Python's memory management system handles many memory-related tasks automatically, developers still need to be mindful of memory usage, especially in long-running processes and applications that deal with large amounts of data. Proper coding practices, avoiding unnecessary object creation, and being aware of circular references are important steps to ensure efficient memory usage."
   ]
  },
  {
   "cell_type": "markdown",
   "id": "2dd8af46-17dc-4c2a-bd40-69ff7128c8e2",
   "metadata": {},
   "source": [
    "\n",
    "\n",
    "**15. How to install Python on Windows and set path variables:**\n",
    "\n",
    "To install Python on Windows and set up the path variables, follow these steps:\n",
    "\n",
    "1. **Download Python:**\n",
    "   - Visit the official Python website: https://www.python.org/downloads/windows/\n",
    "   - Download the latest version of Python for Windows (choose the appropriate version based on your system architecture, 32-bit or 64-bit).\n",
    "\n",
    "2. **Run the Installer:**\n",
    "   - Run the downloaded installer executable.\n",
    "   - Make sure to check the box that says \"Add Python x.x to PATH\" during installation. This will automatically set up the path variables for you.\n",
    "\n",
    "3. **Install Python:**\n",
    "   - Click the \"Install Now\" button to start the installation.\n",
    "   - The installer will install Python and set up the necessary files and directories.\n",
    "\n",
    "4. **Verify Installation:**\n",
    "   - Open the Command Prompt (search for \"cmd\" in the Windows search bar).\n",
    "   - Type `python` and press Enter. This should launch the Python interpreter, showing the version information.\n",
    "\n",
    "Python is now installed on your Windows system, and the path variables are set up for you.\n",
    "\n",
    "\n"
   ]
  },
  {
   "cell_type": "markdown",
   "id": "af55aa16-2718-4f0d-a0c0-fecdf1210ec5",
   "metadata": {},
   "source": [
    "\n",
    "\n",
    "**16. Is indentation required in Python:**\n",
    "\n",
    "Yes, indentation is required in Python. Unlike many other programming languages that use braces or other delimiters to define code blocks, Python uses indentation to indicate the structure of the code. Proper indentation is crucial for readability and to determine the scope of statements within different blocks.\n",
    "\n",
    "For example, consider a conditional statement:\n",
    "\n",
    "```python\n",
    "if condition:\n",
    "    statement1\n",
    "    statement2\n",
    "```\n",
    "\n",
    "In the above code, the indentation (whitespace at the beginning of each line) defines that `statement1` and `statement2` are part of the same code block, which is executed when the `condition` is true. Indentation is used consistently throughout Python code to define blocks for functions, loops, classes, conditionals, and more.\n",
    "\n",
    "It's important to note that consistent and correct indentation is essential for your code to work as intended. If indentation is incorrect, it can lead to syntax errors or logical issues in your program. Most code editors and IDEs provide automatic indentation and formatting to help maintain proper code structure."
   ]
  },
  {
   "cell_type": "code",
   "execution_count": null,
   "id": "624595d5-8c16-4db2-9873-1f5981dacfd8",
   "metadata": {},
   "outputs": [],
   "source": []
  }
 ],
 "metadata": {
  "kernelspec": {
   "display_name": "Python 3 (ipykernel)",
   "language": "python",
   "name": "python3"
  },
  "language_info": {
   "codemirror_mode": {
    "name": "ipython",
    "version": 3
   },
   "file_extension": ".py",
   "mimetype": "text/x-python",
   "name": "python",
   "nbconvert_exporter": "python",
   "pygments_lexer": "ipython3",
   "version": "3.10.8"
  }
 },
 "nbformat": 4,
 "nbformat_minor": 5
}
