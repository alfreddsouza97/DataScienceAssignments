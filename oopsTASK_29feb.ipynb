{
 "cells": [
  {
   "cell_type": "markdown",
   "id": "16a15253-ef9d-4d1c-8a2a-d9b381a0f4ac",
   "metadata": {},
   "source": [
    "Q1. Create a vehicle class with an init method having instance variables as name_of_vehicle, max_speed\n",
    "and average_of_vehicle."
   ]
  },
  {
   "cell_type": "code",
   "execution_count": 1,
   "id": "0144f381-5633-4dd8-af96-4ad6bf9c372d",
   "metadata": {},
   "outputs": [],
   "source": [
    "class vehicle:\n",
    "    \n",
    "    def __init__(self, vehicleName, maxSpeed, avgOfVehicle):\n",
    "        \n",
    "        self.name_of_vehicle = vehicleName\n",
    "        \n",
    "        self.max_speed = maxSpeed\n",
    "        \n",
    "        self.average_of_vehicle = avgOfVehicle\n",
    "        \n",
    "        \n",
    "        "
   ]
  },
  {
   "cell_type": "markdown",
   "id": "cd913dbb-ad14-4d64-a629-a2a803b46a8b",
   "metadata": {},
   "source": [
    "Q2. Create a child class car from the vehicle class created in Que 1, which will inherit the vehicle class.\n",
    "Create a method named seating_capacity which takes capacity as an argument and returns the name of\n",
    "the vehicle and its seating capacity."
   ]
  },
  {
   "cell_type": "code",
   "execution_count": 2,
   "id": "5a9acc57-40f0-4d9a-b279-86c80f726800",
   "metadata": {},
   "outputs": [],
   "source": [
    "class car(vehicle):\n",
    "    \n",
    "    def seating_capacity(self, capacity):\n",
    "        \n",
    "        return self.name_of_vehicle, capacity\n",
    "        \n",
    "        "
   ]
  },
  {
   "cell_type": "code",
   "execution_count": 4,
   "id": "6bf0b66b-dadf-4860-8f53-5395de34dbaa",
   "metadata": {},
   "outputs": [],
   "source": [
    "car1 = car('Maruti', 200, 4)"
   ]
  },
  {
   "cell_type": "code",
   "execution_count": 6,
   "id": "78e6f928-c5c5-4b8f-a050-aa65cc2bc59a",
   "metadata": {},
   "outputs": [
    {
     "data": {
      "text/plain": [
       "('Maruti', 5)"
      ]
     },
     "execution_count": 6,
     "metadata": {},
     "output_type": "execute_result"
    }
   ],
   "source": [
    "car1.seating_capacity(5)"
   ]
  },
  {
   "cell_type": "markdown",
   "id": "0ccc5834-2078-4916-9640-03d4166750fd",
   "metadata": {},
   "source": [
    "Q3. What is multiple inheritance? Write a python code to demonstrate multiple inheritance."
   ]
  },
  {
   "cell_type": "markdown",
   "id": "8d7a1a52-ed3c-4303-9796-f9e7350cfef2",
   "metadata": {},
   "source": [
    "Multiple inheritance is a feature in object-oriented programming languages where a class can inherit attributes and methods from more than one parent class. In Python, you can achieve multiple inheritance by creating a class that inherits from two or more classes."
   ]
  },
  {
   "cell_type": "code",
   "execution_count": 7,
   "id": "05fcbe58-b0fd-4f99-8dec-a107dd242f17",
   "metadata": {},
   "outputs": [],
   "source": [
    "class class1:\n",
    "    \n",
    "    def class1_method(self):\n",
    "        \n",
    "        print(\"This is my class1 method\")\n",
    "        "
   ]
  },
  {
   "cell_type": "code",
   "execution_count": 8,
   "id": "09f6dde4-8467-41d8-94fd-52a4850595c8",
   "metadata": {},
   "outputs": [],
   "source": [
    "class class2:\n",
    "    \n",
    "    def class2_method(self):\n",
    "        \n",
    "        print(\"This is my class2 method\")"
   ]
  },
  {
   "cell_type": "code",
   "execution_count": 9,
   "id": "b5623881-7104-47e0-9284-0ff0258d6ca8",
   "metadata": {},
   "outputs": [],
   "source": [
    "class class3(class1, class2):\n",
    "    \n",
    "    pass"
   ]
  },
  {
   "cell_type": "code",
   "execution_count": 10,
   "id": "7e651199-c9af-4a7c-9fb5-46096aab133e",
   "metadata": {},
   "outputs": [],
   "source": [
    "class3_object = class3()"
   ]
  },
  {
   "cell_type": "code",
   "execution_count": 11,
   "id": "6d3f7ff7-d805-4626-8178-e79920e5c5b2",
   "metadata": {},
   "outputs": [
    {
     "name": "stdout",
     "output_type": "stream",
     "text": [
      "This is my class1 method\n"
     ]
    }
   ],
   "source": [
    "class3_object.class1_method()"
   ]
  },
  {
   "cell_type": "code",
   "execution_count": 12,
   "id": "1e471419-fee8-4a15-8489-4b533b141dfe",
   "metadata": {},
   "outputs": [
    {
     "name": "stdout",
     "output_type": "stream",
     "text": [
      "This is my class2 method\n"
     ]
    }
   ],
   "source": [
    "class3_object.class2_method()"
   ]
  },
  {
   "cell_type": "markdown",
   "id": "821be13e-0786-4b02-b7cb-9636b8e820c1",
   "metadata": {},
   "source": [
    "Q4. What are getter and setter in python? Create a class and create a getter and a setter method in this\n",
    "class."
   ]
  },
  {
   "cell_type": "markdown",
   "id": "a03cc28b-3483-4195-b42f-45a473fe889d",
   "metadata": {},
   "source": [
    "In Python, getters and setters are methods used to access and modify the private attributes of a class. They are a way to implement encapsulation and control access to the internal state of an object. Typically, the getter is used to retrieve the value of an attribute, and the setter is used to modify or set the value of an attribute."
   ]
  },
  {
   "cell_type": "code",
   "execution_count": 25,
   "id": "c17dacfd-e512-4a2a-9022-ac5da912ce37",
   "metadata": {},
   "outputs": [],
   "source": [
    "class studentDetails:\n",
    "    \n",
    "    def __init__(self, name, email, phone):\n",
    "        \n",
    "        self.__name = name\n",
    "        \n",
    "        self.__email = email\n",
    "        \n",
    "        self.__phoneNumber = phone\n",
    "        \n",
    "    \n",
    "    def setPhoneNumber(self, phone):\n",
    "        \n",
    "        self.__phoneNumber = phone\n",
    "        \n",
    "    \n",
    "    def getPhoneNumber(self):\n",
    "        \n",
    "        return self.__phoneNumber\n",
    "    \n",
    "    def setName(self, name):\n",
    "        \n",
    "        self.__name = name\n",
    "        \n",
    "    \n",
    "    def getName(self):\n",
    "        \n",
    "        return self.__name\n",
    "    \n",
    "    \n",
    "    def setEmail(self, email):\n",
    "        \n",
    "        self.__email = email\n",
    "        \n",
    "    \n",
    "    def getEmail(self):\n",
    "        \n",
    "        return self.__email \n",
    "    \n",
    "    def getStudentDetails(self):\n",
    "        \n",
    "        return self.__name, self.__email, self.__phoneNumber\n",
    "        "
   ]
  },
  {
   "cell_type": "code",
   "execution_count": 26,
   "id": "84fa7b36-fcdd-4eb0-ad2d-2cbd155e8168",
   "metadata": {},
   "outputs": [],
   "source": [
    "student1 = studentDetails('Alok', 'alok@gmail.com', 1234567890)"
   ]
  },
  {
   "cell_type": "code",
   "execution_count": 27,
   "id": "44c0b027-9a90-4824-89ce-a49522c97ae4",
   "metadata": {},
   "outputs": [],
   "source": [
    "student1.setName('Akshay')"
   ]
  },
  {
   "cell_type": "code",
   "execution_count": 28,
   "id": "76dff61e-8312-4263-aba8-d52213bfb2f3",
   "metadata": {},
   "outputs": [
    {
     "data": {
      "text/plain": [
       "'Akshay'"
      ]
     },
     "execution_count": 28,
     "metadata": {},
     "output_type": "execute_result"
    }
   ],
   "source": [
    "student1.getName()"
   ]
  },
  {
   "cell_type": "code",
   "execution_count": 29,
   "id": "db68ad4f-edab-42a4-8d77-55a5a3d7aae7",
   "metadata": {},
   "outputs": [
    {
     "data": {
      "text/plain": [
       "('Akshay', 'alok@gmail.com', 1234567890)"
      ]
     },
     "execution_count": 29,
     "metadata": {},
     "output_type": "execute_result"
    }
   ],
   "source": [
    "student1.getStudentDetails()"
   ]
  },
  {
   "cell_type": "markdown",
   "id": "e644eb6c-8c63-4c7d-8dc8-c90161556c44",
   "metadata": {},
   "source": [
    "Q5.What is method overriding in python? Write a python code to demonstrate method overriding."
   ]
  },
  {
   "cell_type": "code",
   "execution_count": 30,
   "id": "8c455fdd-170d-411b-94e7-0de4d9f11c98",
   "metadata": {},
   "outputs": [],
   "source": [
    "class Animal:\n",
    "    def speak(self):\n",
    "        print(\"Generic animal sound\")"
   ]
  },
  {
   "cell_type": "code",
   "execution_count": 31,
   "id": "398ea06f-fdf1-4b8b-a8a4-608da5329599",
   "metadata": {},
   "outputs": [],
   "source": [
    "class Dog(Animal):\n",
    "    \n",
    "    def speak(self):\n",
    "        \n",
    "        print(\"Bow Bow\")\n",
    "        "
   ]
  },
  {
   "cell_type": "code",
   "execution_count": 32,
   "id": "b0e43723-6233-4b59-a42a-88aee564537d",
   "metadata": {},
   "outputs": [],
   "source": [
    "class Cat(Animal):\n",
    "    \n",
    "    def speak(self):\n",
    "        \n",
    "        print(\"Meow Meow\")"
   ]
  },
  {
   "cell_type": "code",
   "execution_count": 33,
   "id": "fbd71f90-37c3-4a88-9ccb-b74df4d9d7db",
   "metadata": {},
   "outputs": [],
   "source": [
    "animal = Animal()"
   ]
  },
  {
   "cell_type": "code",
   "execution_count": 34,
   "id": "d65a34c0-7733-4cc3-b544-fce8120a2698",
   "metadata": {},
   "outputs": [],
   "source": [
    "dog = Dog()"
   ]
  },
  {
   "cell_type": "code",
   "execution_count": 35,
   "id": "8a4dfbdb-426b-4505-ae22-2db2762ba404",
   "metadata": {},
   "outputs": [],
   "source": [
    "cat = Cat()"
   ]
  },
  {
   "cell_type": "code",
   "execution_count": 36,
   "id": "e64c5d49-5148-4b96-b644-332ac6a96a18",
   "metadata": {},
   "outputs": [
    {
     "name": "stdout",
     "output_type": "stream",
     "text": [
      "Generic animal sound\n"
     ]
    }
   ],
   "source": [
    "animal.speak()"
   ]
  },
  {
   "cell_type": "code",
   "execution_count": 37,
   "id": "1b25d10d-f5f4-4e5a-8f4d-31137bed5f34",
   "metadata": {},
   "outputs": [
    {
     "name": "stdout",
     "output_type": "stream",
     "text": [
      "Bow Bow\n"
     ]
    }
   ],
   "source": [
    "dog.speak()"
   ]
  },
  {
   "cell_type": "code",
   "execution_count": 38,
   "id": "c5649219-cff7-48da-bb32-12f4625c9ef3",
   "metadata": {},
   "outputs": [
    {
     "name": "stdout",
     "output_type": "stream",
     "text": [
      "Meow Meow\n"
     ]
    }
   ],
   "source": [
    "cat.speak()"
   ]
  },
  {
   "cell_type": "code",
   "execution_count": null,
   "id": "db7ecde6-5c80-4ef6-9cda-a77db74e28b9",
   "metadata": {},
   "outputs": [],
   "source": []
  }
 ],
 "metadata": {
  "kernelspec": {
   "display_name": "Python 3 (ipykernel)",
   "language": "python",
   "name": "python3"
  },
  "language_info": {
   "codemirror_mode": {
    "name": "ipython",
    "version": 3
   },
   "file_extension": ".py",
   "mimetype": "text/x-python",
   "name": "python",
   "nbconvert_exporter": "python",
   "pygments_lexer": "ipython3",
   "version": "3.10.8"
  }
 },
 "nbformat": 4,
 "nbformat_minor": 5
}
